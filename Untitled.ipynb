{
 "cells": [
  {
   "cell_type": "code",
   "execution_count": 1,
   "metadata": {},
   "outputs": [],
   "source": [
    "import pandas as pd"
   ]
  },
  {
   "cell_type": "code",
   "execution_count": 6,
   "metadata": {},
   "outputs": [],
   "source": [
    "data=pd.read_csv('/home/lyc/Desktop/tensorfolowproject/chapter_3/data_prepare/pic/train/finall.lst',sep='\\t',header=None)"
   ]
  },
  {
   "cell_type": "code",
   "execution_count": 7,
   "metadata": {},
   "outputs": [
    {
     "data": {
      "text/plain": [
       "RangeIndex(start=0, stop=4799, step=1)"
      ]
     },
     "execution_count": 7,
     "metadata": {},
     "output_type": "execute_result"
    }
   ],
   "source": [
    "data.index"
   ]
  },
  {
   "cell_type": "code",
   "execution_count": 8,
   "metadata": {},
   "outputs": [
    {
     "data": {
      "text/plain": [
       "Int64Index([0, 1], dtype='int64')"
      ]
     },
     "execution_count": 8,
     "metadata": {},
     "output_type": "execute_result"
    }
   ],
   "source": [
    "data.columns"
   ]
  },
  {
   "cell_type": "code",
   "execution_count": 9,
   "metadata": {},
   "outputs": [],
   "source": [
    "data.columns = ['class','source']"
   ]
  },
  {
   "cell_type": "code",
   "execution_count": 10,
   "metadata": {},
   "outputs": [
    {
     "data": {
      "text/html": [
       "<div>\n",
       "<style scoped>\n",
       "    .dataframe tbody tr th:only-of-type {\n",
       "        vertical-align: middle;\n",
       "    }\n",
       "\n",
       "    .dataframe tbody tr th {\n",
       "        vertical-align: top;\n",
       "    }\n",
       "\n",
       "    .dataframe thead th {\n",
       "        text-align: right;\n",
       "    }\n",
       "</style>\n",
       "<table border=\"1\" class=\"dataframe\">\n",
       "  <thead>\n",
       "    <tr style=\"text-align: right;\">\n",
       "      <th></th>\n",
       "      <th>class</th>\n",
       "      <th>source</th>\n",
       "    </tr>\n",
       "  </thead>\n",
       "  <tbody>\n",
       "    <tr>\n",
       "      <th>0</th>\n",
       "      <td>1</td>\n",
       "      <td>/home/lyc/Desktop/tensorfolowproject/chapter_3...</td>\n",
       "    </tr>\n",
       "    <tr>\n",
       "      <th>1</th>\n",
       "      <td>1</td>\n",
       "      <td>/home/lyc/Desktop/tensorfolowproject/chapter_3...</td>\n",
       "    </tr>\n",
       "    <tr>\n",
       "      <th>2</th>\n",
       "      <td>1</td>\n",
       "      <td>/home/lyc/Desktop/tensorfolowproject/chapter_3...</td>\n",
       "    </tr>\n",
       "    <tr>\n",
       "      <th>3</th>\n",
       "      <td>1</td>\n",
       "      <td>/home/lyc/Desktop/tensorfolowproject/chapter_3...</td>\n",
       "    </tr>\n",
       "    <tr>\n",
       "      <th>4</th>\n",
       "      <td>1</td>\n",
       "      <td>/home/lyc/Desktop/tensorfolowproject/chapter_3...</td>\n",
       "    </tr>\n",
       "  </tbody>\n",
       "</table>\n",
       "</div>"
      ],
      "text/plain": [
       "   class                                             source\n",
       "0      1  /home/lyc/Desktop/tensorfolowproject/chapter_3...\n",
       "1      1  /home/lyc/Desktop/tensorfolowproject/chapter_3...\n",
       "2      1  /home/lyc/Desktop/tensorfolowproject/chapter_3...\n",
       "3      1  /home/lyc/Desktop/tensorfolowproject/chapter_3...\n",
       "4      1  /home/lyc/Desktop/tensorfolowproject/chapter_3..."
      ]
     },
     "execution_count": 10,
     "metadata": {},
     "output_type": "execute_result"
    }
   ],
   "source": [
    "data.head()"
   ]
  },
  {
   "cell_type": "code",
   "execution_count": 11,
   "metadata": {},
   "outputs": [
    {
     "data": {
      "text/plain": [
       "3    800\n",
       "2    800\n",
       "5    800\n",
       "1    800\n",
       "4    800\n",
       "6    799\n",
       "Name: class, dtype: int64"
      ]
     },
     "execution_count": 11,
     "metadata": {},
     "output_type": "execute_result"
    }
   ],
   "source": [
    "data['class'].value_counts()"
   ]
  },
  {
   "cell_type": "code",
   "execution_count": 12,
   "metadata": {},
   "outputs": [
    {
     "data": {
      "text/html": [
       "<div>\n",
       "<style scoped>\n",
       "    .dataframe tbody tr th:only-of-type {\n",
       "        vertical-align: middle;\n",
       "    }\n",
       "\n",
       "    .dataframe tbody tr th {\n",
       "        vertical-align: top;\n",
       "    }\n",
       "\n",
       "    .dataframe thead th {\n",
       "        text-align: right;\n",
       "    }\n",
       "</style>\n",
       "<table border=\"1\" class=\"dataframe\">\n",
       "  <thead>\n",
       "    <tr style=\"text-align: right;\">\n",
       "      <th></th>\n",
       "      <th>class</th>\n",
       "      <th>source</th>\n",
       "    </tr>\n",
       "  </thead>\n",
       "  <tbody>\n",
       "    <tr>\n",
       "      <th>0</th>\n",
       "      <td>1</td>\n",
       "      <td>/home/lyc/Desktop/tensorfolowproject/chapter_3...</td>\n",
       "    </tr>\n",
       "    <tr>\n",
       "      <th>1</th>\n",
       "      <td>1</td>\n",
       "      <td>/home/lyc/Desktop/tensorfolowproject/chapter_3...</td>\n",
       "    </tr>\n",
       "    <tr>\n",
       "      <th>2</th>\n",
       "      <td>1</td>\n",
       "      <td>/home/lyc/Desktop/tensorfolowproject/chapter_3...</td>\n",
       "    </tr>\n",
       "    <tr>\n",
       "      <th>3</th>\n",
       "      <td>1</td>\n",
       "      <td>/home/lyc/Desktop/tensorfolowproject/chapter_3...</td>\n",
       "    </tr>\n",
       "    <tr>\n",
       "      <th>4</th>\n",
       "      <td>1</td>\n",
       "      <td>/home/lyc/Desktop/tensorfolowproject/chapter_3...</td>\n",
       "    </tr>\n",
       "    <tr>\n",
       "      <th>5</th>\n",
       "      <td>1</td>\n",
       "      <td>/home/lyc/Desktop/tensorfolowproject/chapter_3...</td>\n",
       "    </tr>\n",
       "    <tr>\n",
       "      <th>6</th>\n",
       "      <td>1</td>\n",
       "      <td>/home/lyc/Desktop/tensorfolowproject/chapter_3...</td>\n",
       "    </tr>\n",
       "    <tr>\n",
       "      <th>7</th>\n",
       "      <td>1</td>\n",
       "      <td>/home/lyc/Desktop/tensorfolowproject/chapter_3...</td>\n",
       "    </tr>\n",
       "    <tr>\n",
       "      <th>8</th>\n",
       "      <td>1</td>\n",
       "      <td>/home/lyc/Desktop/tensorfolowproject/chapter_3...</td>\n",
       "    </tr>\n",
       "    <tr>\n",
       "      <th>9</th>\n",
       "      <td>1</td>\n",
       "      <td>/home/lyc/Desktop/tensorfolowproject/chapter_3...</td>\n",
       "    </tr>\n",
       "    <tr>\n",
       "      <th>10</th>\n",
       "      <td>1</td>\n",
       "      <td>/home/lyc/Desktop/tensorfolowproject/chapter_3...</td>\n",
       "    </tr>\n",
       "    <tr>\n",
       "      <th>11</th>\n",
       "      <td>1</td>\n",
       "      <td>/home/lyc/Desktop/tensorfolowproject/chapter_3...</td>\n",
       "    </tr>\n",
       "    <tr>\n",
       "      <th>12</th>\n",
       "      <td>1</td>\n",
       "      <td>/home/lyc/Desktop/tensorfolowproject/chapter_3...</td>\n",
       "    </tr>\n",
       "    <tr>\n",
       "      <th>13</th>\n",
       "      <td>1</td>\n",
       "      <td>/home/lyc/Desktop/tensorfolowproject/chapter_3...</td>\n",
       "    </tr>\n",
       "    <tr>\n",
       "      <th>14</th>\n",
       "      <td>1</td>\n",
       "      <td>/home/lyc/Desktop/tensorfolowproject/chapter_3...</td>\n",
       "    </tr>\n",
       "    <tr>\n",
       "      <th>15</th>\n",
       "      <td>1</td>\n",
       "      <td>/home/lyc/Desktop/tensorfolowproject/chapter_3...</td>\n",
       "    </tr>\n",
       "    <tr>\n",
       "      <th>16</th>\n",
       "      <td>1</td>\n",
       "      <td>/home/lyc/Desktop/tensorfolowproject/chapter_3...</td>\n",
       "    </tr>\n",
       "    <tr>\n",
       "      <th>17</th>\n",
       "      <td>1</td>\n",
       "      <td>/home/lyc/Desktop/tensorfolowproject/chapter_3...</td>\n",
       "    </tr>\n",
       "    <tr>\n",
       "      <th>18</th>\n",
       "      <td>1</td>\n",
       "      <td>/home/lyc/Desktop/tensorfolowproject/chapter_3...</td>\n",
       "    </tr>\n",
       "    <tr>\n",
       "      <th>19</th>\n",
       "      <td>1</td>\n",
       "      <td>/home/lyc/Desktop/tensorfolowproject/chapter_3...</td>\n",
       "    </tr>\n",
       "    <tr>\n",
       "      <th>20</th>\n",
       "      <td>1</td>\n",
       "      <td>/home/lyc/Desktop/tensorfolowproject/chapter_3...</td>\n",
       "    </tr>\n",
       "    <tr>\n",
       "      <th>21</th>\n",
       "      <td>1</td>\n",
       "      <td>/home/lyc/Desktop/tensorfolowproject/chapter_3...</td>\n",
       "    </tr>\n",
       "    <tr>\n",
       "      <th>22</th>\n",
       "      <td>1</td>\n",
       "      <td>/home/lyc/Desktop/tensorfolowproject/chapter_3...</td>\n",
       "    </tr>\n",
       "    <tr>\n",
       "      <th>23</th>\n",
       "      <td>1</td>\n",
       "      <td>/home/lyc/Desktop/tensorfolowproject/chapter_3...</td>\n",
       "    </tr>\n",
       "    <tr>\n",
       "      <th>24</th>\n",
       "      <td>1</td>\n",
       "      <td>/home/lyc/Desktop/tensorfolowproject/chapter_3...</td>\n",
       "    </tr>\n",
       "    <tr>\n",
       "      <th>25</th>\n",
       "      <td>1</td>\n",
       "      <td>/home/lyc/Desktop/tensorfolowproject/chapter_3...</td>\n",
       "    </tr>\n",
       "    <tr>\n",
       "      <th>26</th>\n",
       "      <td>1</td>\n",
       "      <td>/home/lyc/Desktop/tensorfolowproject/chapter_3...</td>\n",
       "    </tr>\n",
       "    <tr>\n",
       "      <th>27</th>\n",
       "      <td>1</td>\n",
       "      <td>/home/lyc/Desktop/tensorfolowproject/chapter_3...</td>\n",
       "    </tr>\n",
       "    <tr>\n",
       "      <th>28</th>\n",
       "      <td>1</td>\n",
       "      <td>/home/lyc/Desktop/tensorfolowproject/chapter_3...</td>\n",
       "    </tr>\n",
       "    <tr>\n",
       "      <th>29</th>\n",
       "      <td>1</td>\n",
       "      <td>/home/lyc/Desktop/tensorfolowproject/chapter_3...</td>\n",
       "    </tr>\n",
       "    <tr>\n",
       "      <th>...</th>\n",
       "      <td>...</td>\n",
       "      <td>...</td>\n",
       "    </tr>\n",
       "    <tr>\n",
       "      <th>770</th>\n",
       "      <td>1</td>\n",
       "      <td>/home/lyc/Desktop/tensorfolowproject/chapter_3...</td>\n",
       "    </tr>\n",
       "    <tr>\n",
       "      <th>771</th>\n",
       "      <td>1</td>\n",
       "      <td>/home/lyc/Desktop/tensorfolowproject/chapter_3...</td>\n",
       "    </tr>\n",
       "    <tr>\n",
       "      <th>772</th>\n",
       "      <td>1</td>\n",
       "      <td>/home/lyc/Desktop/tensorfolowproject/chapter_3...</td>\n",
       "    </tr>\n",
       "    <tr>\n",
       "      <th>773</th>\n",
       "      <td>1</td>\n",
       "      <td>/home/lyc/Desktop/tensorfolowproject/chapter_3...</td>\n",
       "    </tr>\n",
       "    <tr>\n",
       "      <th>774</th>\n",
       "      <td>1</td>\n",
       "      <td>/home/lyc/Desktop/tensorfolowproject/chapter_3...</td>\n",
       "    </tr>\n",
       "    <tr>\n",
       "      <th>775</th>\n",
       "      <td>1</td>\n",
       "      <td>/home/lyc/Desktop/tensorfolowproject/chapter_3...</td>\n",
       "    </tr>\n",
       "    <tr>\n",
       "      <th>776</th>\n",
       "      <td>1</td>\n",
       "      <td>/home/lyc/Desktop/tensorfolowproject/chapter_3...</td>\n",
       "    </tr>\n",
       "    <tr>\n",
       "      <th>777</th>\n",
       "      <td>1</td>\n",
       "      <td>/home/lyc/Desktop/tensorfolowproject/chapter_3...</td>\n",
       "    </tr>\n",
       "    <tr>\n",
       "      <th>778</th>\n",
       "      <td>1</td>\n",
       "      <td>/home/lyc/Desktop/tensorfolowproject/chapter_3...</td>\n",
       "    </tr>\n",
       "    <tr>\n",
       "      <th>779</th>\n",
       "      <td>1</td>\n",
       "      <td>/home/lyc/Desktop/tensorfolowproject/chapter_3...</td>\n",
       "    </tr>\n",
       "    <tr>\n",
       "      <th>780</th>\n",
       "      <td>1</td>\n",
       "      <td>/home/lyc/Desktop/tensorfolowproject/chapter_3...</td>\n",
       "    </tr>\n",
       "    <tr>\n",
       "      <th>781</th>\n",
       "      <td>1</td>\n",
       "      <td>/home/lyc/Desktop/tensorfolowproject/chapter_3...</td>\n",
       "    </tr>\n",
       "    <tr>\n",
       "      <th>782</th>\n",
       "      <td>1</td>\n",
       "      <td>/home/lyc/Desktop/tensorfolowproject/chapter_3...</td>\n",
       "    </tr>\n",
       "    <tr>\n",
       "      <th>783</th>\n",
       "      <td>1</td>\n",
       "      <td>/home/lyc/Desktop/tensorfolowproject/chapter_3...</td>\n",
       "    </tr>\n",
       "    <tr>\n",
       "      <th>784</th>\n",
       "      <td>1</td>\n",
       "      <td>/home/lyc/Desktop/tensorfolowproject/chapter_3...</td>\n",
       "    </tr>\n",
       "    <tr>\n",
       "      <th>785</th>\n",
       "      <td>1</td>\n",
       "      <td>/home/lyc/Desktop/tensorfolowproject/chapter_3...</td>\n",
       "    </tr>\n",
       "    <tr>\n",
       "      <th>786</th>\n",
       "      <td>1</td>\n",
       "      <td>/home/lyc/Desktop/tensorfolowproject/chapter_3...</td>\n",
       "    </tr>\n",
       "    <tr>\n",
       "      <th>787</th>\n",
       "      <td>1</td>\n",
       "      <td>/home/lyc/Desktop/tensorfolowproject/chapter_3...</td>\n",
       "    </tr>\n",
       "    <tr>\n",
       "      <th>788</th>\n",
       "      <td>1</td>\n",
       "      <td>/home/lyc/Desktop/tensorfolowproject/chapter_3...</td>\n",
       "    </tr>\n",
       "    <tr>\n",
       "      <th>789</th>\n",
       "      <td>1</td>\n",
       "      <td>/home/lyc/Desktop/tensorfolowproject/chapter_3...</td>\n",
       "    </tr>\n",
       "    <tr>\n",
       "      <th>790</th>\n",
       "      <td>1</td>\n",
       "      <td>/home/lyc/Desktop/tensorfolowproject/chapter_3...</td>\n",
       "    </tr>\n",
       "    <tr>\n",
       "      <th>791</th>\n",
       "      <td>1</td>\n",
       "      <td>/home/lyc/Desktop/tensorfolowproject/chapter_3...</td>\n",
       "    </tr>\n",
       "    <tr>\n",
       "      <th>792</th>\n",
       "      <td>1</td>\n",
       "      <td>/home/lyc/Desktop/tensorfolowproject/chapter_3...</td>\n",
       "    </tr>\n",
       "    <tr>\n",
       "      <th>793</th>\n",
       "      <td>1</td>\n",
       "      <td>/home/lyc/Desktop/tensorfolowproject/chapter_3...</td>\n",
       "    </tr>\n",
       "    <tr>\n",
       "      <th>794</th>\n",
       "      <td>1</td>\n",
       "      <td>/home/lyc/Desktop/tensorfolowproject/chapter_3...</td>\n",
       "    </tr>\n",
       "    <tr>\n",
       "      <th>795</th>\n",
       "      <td>1</td>\n",
       "      <td>/home/lyc/Desktop/tensorfolowproject/chapter_3...</td>\n",
       "    </tr>\n",
       "    <tr>\n",
       "      <th>796</th>\n",
       "      <td>1</td>\n",
       "      <td>/home/lyc/Desktop/tensorfolowproject/chapter_3...</td>\n",
       "    </tr>\n",
       "    <tr>\n",
       "      <th>797</th>\n",
       "      <td>1</td>\n",
       "      <td>/home/lyc/Desktop/tensorfolowproject/chapter_3...</td>\n",
       "    </tr>\n",
       "    <tr>\n",
       "      <th>798</th>\n",
       "      <td>1</td>\n",
       "      <td>/home/lyc/Desktop/tensorfolowproject/chapter_3...</td>\n",
       "    </tr>\n",
       "    <tr>\n",
       "      <th>799</th>\n",
       "      <td>1</td>\n",
       "      <td>/home/lyc/Desktop/tensorfolowproject/chapter_3...</td>\n",
       "    </tr>\n",
       "  </tbody>\n",
       "</table>\n",
       "<p>800 rows × 2 columns</p>\n",
       "</div>"
      ],
      "text/plain": [
       "     class                                             source\n",
       "0        1  /home/lyc/Desktop/tensorfolowproject/chapter_3...\n",
       "1        1  /home/lyc/Desktop/tensorfolowproject/chapter_3...\n",
       "2        1  /home/lyc/Desktop/tensorfolowproject/chapter_3...\n",
       "3        1  /home/lyc/Desktop/tensorfolowproject/chapter_3...\n",
       "4        1  /home/lyc/Desktop/tensorfolowproject/chapter_3...\n",
       "5        1  /home/lyc/Desktop/tensorfolowproject/chapter_3...\n",
       "6        1  /home/lyc/Desktop/tensorfolowproject/chapter_3...\n",
       "7        1  /home/lyc/Desktop/tensorfolowproject/chapter_3...\n",
       "8        1  /home/lyc/Desktop/tensorfolowproject/chapter_3...\n",
       "9        1  /home/lyc/Desktop/tensorfolowproject/chapter_3...\n",
       "10       1  /home/lyc/Desktop/tensorfolowproject/chapter_3...\n",
       "11       1  /home/lyc/Desktop/tensorfolowproject/chapter_3...\n",
       "12       1  /home/lyc/Desktop/tensorfolowproject/chapter_3...\n",
       "13       1  /home/lyc/Desktop/tensorfolowproject/chapter_3...\n",
       "14       1  /home/lyc/Desktop/tensorfolowproject/chapter_3...\n",
       "15       1  /home/lyc/Desktop/tensorfolowproject/chapter_3...\n",
       "16       1  /home/lyc/Desktop/tensorfolowproject/chapter_3...\n",
       "17       1  /home/lyc/Desktop/tensorfolowproject/chapter_3...\n",
       "18       1  /home/lyc/Desktop/tensorfolowproject/chapter_3...\n",
       "19       1  /home/lyc/Desktop/tensorfolowproject/chapter_3...\n",
       "20       1  /home/lyc/Desktop/tensorfolowproject/chapter_3...\n",
       "21       1  /home/lyc/Desktop/tensorfolowproject/chapter_3...\n",
       "22       1  /home/lyc/Desktop/tensorfolowproject/chapter_3...\n",
       "23       1  /home/lyc/Desktop/tensorfolowproject/chapter_3...\n",
       "24       1  /home/lyc/Desktop/tensorfolowproject/chapter_3...\n",
       "25       1  /home/lyc/Desktop/tensorfolowproject/chapter_3...\n",
       "26       1  /home/lyc/Desktop/tensorfolowproject/chapter_3...\n",
       "27       1  /home/lyc/Desktop/tensorfolowproject/chapter_3...\n",
       "28       1  /home/lyc/Desktop/tensorfolowproject/chapter_3...\n",
       "29       1  /home/lyc/Desktop/tensorfolowproject/chapter_3...\n",
       "..     ...                                                ...\n",
       "770      1  /home/lyc/Desktop/tensorfolowproject/chapter_3...\n",
       "771      1  /home/lyc/Desktop/tensorfolowproject/chapter_3...\n",
       "772      1  /home/lyc/Desktop/tensorfolowproject/chapter_3...\n",
       "773      1  /home/lyc/Desktop/tensorfolowproject/chapter_3...\n",
       "774      1  /home/lyc/Desktop/tensorfolowproject/chapter_3...\n",
       "775      1  /home/lyc/Desktop/tensorfolowproject/chapter_3...\n",
       "776      1  /home/lyc/Desktop/tensorfolowproject/chapter_3...\n",
       "777      1  /home/lyc/Desktop/tensorfolowproject/chapter_3...\n",
       "778      1  /home/lyc/Desktop/tensorfolowproject/chapter_3...\n",
       "779      1  /home/lyc/Desktop/tensorfolowproject/chapter_3...\n",
       "780      1  /home/lyc/Desktop/tensorfolowproject/chapter_3...\n",
       "781      1  /home/lyc/Desktop/tensorfolowproject/chapter_3...\n",
       "782      1  /home/lyc/Desktop/tensorfolowproject/chapter_3...\n",
       "783      1  /home/lyc/Desktop/tensorfolowproject/chapter_3...\n",
       "784      1  /home/lyc/Desktop/tensorfolowproject/chapter_3...\n",
       "785      1  /home/lyc/Desktop/tensorfolowproject/chapter_3...\n",
       "786      1  /home/lyc/Desktop/tensorfolowproject/chapter_3...\n",
       "787      1  /home/lyc/Desktop/tensorfolowproject/chapter_3...\n",
       "788      1  /home/lyc/Desktop/tensorfolowproject/chapter_3...\n",
       "789      1  /home/lyc/Desktop/tensorfolowproject/chapter_3...\n",
       "790      1  /home/lyc/Desktop/tensorfolowproject/chapter_3...\n",
       "791      1  /home/lyc/Desktop/tensorfolowproject/chapter_3...\n",
       "792      1  /home/lyc/Desktop/tensorfolowproject/chapter_3...\n",
       "793      1  /home/lyc/Desktop/tensorfolowproject/chapter_3...\n",
       "794      1  /home/lyc/Desktop/tensorfolowproject/chapter_3...\n",
       "795      1  /home/lyc/Desktop/tensorfolowproject/chapter_3...\n",
       "796      1  /home/lyc/Desktop/tensorfolowproject/chapter_3...\n",
       "797      1  /home/lyc/Desktop/tensorfolowproject/chapter_3...\n",
       "798      1  /home/lyc/Desktop/tensorfolowproject/chapter_3...\n",
       "799      1  /home/lyc/Desktop/tensorfolowproject/chapter_3...\n",
       "\n",
       "[800 rows x 2 columns]"
      ]
     },
     "execution_count": 12,
     "metadata": {},
     "output_type": "execute_result"
    }
   ],
   "source": [
    "data[data['class'] == 1]"
   ]
  },
  {
   "cell_type": "code",
   "execution_count": 18,
   "metadata": {},
   "outputs": [],
   "source": [
    "#將data中的样本打乱5次\n",
    "for _ in range(5):\n",
    "    data = data.sample(frac=1)"
   ]
  },
  {
   "cell_type": "code",
   "execution_count": 20,
   "metadata": {},
   "outputs": [
    {
     "data": {
      "text/html": [
       "<div>\n",
       "<style scoped>\n",
       "    .dataframe tbody tr th:only-of-type {\n",
       "        vertical-align: middle;\n",
       "    }\n",
       "\n",
       "    .dataframe tbody tr th {\n",
       "        vertical-align: top;\n",
       "    }\n",
       "\n",
       "    .dataframe thead th {\n",
       "        text-align: right;\n",
       "    }\n",
       "</style>\n",
       "<table border=\"1\" class=\"dataframe\">\n",
       "  <thead>\n",
       "    <tr style=\"text-align: right;\">\n",
       "      <th></th>\n",
       "      <th>class</th>\n",
       "      <th>source</th>\n",
       "    </tr>\n",
       "  </thead>\n",
       "  <tbody>\n",
       "    <tr>\n",
       "      <th>4533</th>\n",
       "      <td>6</td>\n",
       "      <td>/home/lyc/Desktop/tensorfolowproject/chapter_3...</td>\n",
       "    </tr>\n",
       "    <tr>\n",
       "      <th>467</th>\n",
       "      <td>1</td>\n",
       "      <td>/home/lyc/Desktop/tensorfolowproject/chapter_3...</td>\n",
       "    </tr>\n",
       "    <tr>\n",
       "      <th>3370</th>\n",
       "      <td>5</td>\n",
       "      <td>/home/lyc/Desktop/tensorfolowproject/chapter_3...</td>\n",
       "    </tr>\n",
       "    <tr>\n",
       "      <th>3255</th>\n",
       "      <td>5</td>\n",
       "      <td>/home/lyc/Desktop/tensorfolowproject/chapter_3...</td>\n",
       "    </tr>\n",
       "    <tr>\n",
       "      <th>2492</th>\n",
       "      <td>4</td>\n",
       "      <td>/home/lyc/Desktop/tensorfolowproject/chapter_3...</td>\n",
       "    </tr>\n",
       "  </tbody>\n",
       "</table>\n",
       "</div>"
      ],
      "text/plain": [
       "      class                                             source\n",
       "4533      6  /home/lyc/Desktop/tensorfolowproject/chapter_3...\n",
       "467       1  /home/lyc/Desktop/tensorfolowproject/chapter_3...\n",
       "3370      5  /home/lyc/Desktop/tensorfolowproject/chapter_3...\n",
       "3255      5  /home/lyc/Desktop/tensorfolowproject/chapter_3...\n",
       "2492      4  /home/lyc/Desktop/tensorfolowproject/chapter_3..."
      ]
     },
     "execution_count": 20,
     "metadata": {},
     "output_type": "execute_result"
    }
   ],
   "source": [
    "data.head()"
   ]
  },
  {
   "cell_type": "code",
   "execution_count": 24,
   "metadata": {},
   "outputs": [
    {
     "data": {
      "text/plain": [
       "(4799, 2)"
      ]
     },
     "execution_count": 24,
     "metadata": {},
     "output_type": "execute_result"
    }
   ],
   "source": [
    "data.shape"
   ]
  },
  {
   "cell_type": "code",
   "execution_count": 23,
   "metadata": {},
   "outputs": [],
   "source": [
    "import sklearn\n",
    "from sklearn.cross_validation import train_test_split"
   ]
  },
  {
   "cell_type": "code",
   "execution_count": 35,
   "metadata": {},
   "outputs": [],
   "source": [
    "#將数据分为训练集和测试集\n",
    "X_train, X_test, y_train, y_test = train_test_split(data,range(4799), test_size=0.3, random_state=0)"
   ]
  },
  {
   "cell_type": "code",
   "execution_count": 36,
   "metadata": {},
   "outputs": [
    {
     "data": {
      "text/plain": [
       "(3359, 2)"
      ]
     },
     "execution_count": 36,
     "metadata": {},
     "output_type": "execute_result"
    }
   ],
   "source": [
    "X_train.shape"
   ]
  },
  {
   "cell_type": "code",
   "execution_count": 37,
   "metadata": {},
   "outputs": [
    {
     "data": {
      "text/plain": [
       "(1440, 2)"
      ]
     },
     "execution_count": 37,
     "metadata": {},
     "output_type": "execute_result"
    }
   ],
   "source": [
    "X_test.shape"
   ]
  },
  {
   "cell_type": "code",
   "execution_count": 40,
   "metadata": {},
   "outputs": [],
   "source": [
    "#將数据按索引排列\n",
    "X_train.reset_index(drop=True,inplace=True)"
   ]
  },
  {
   "cell_type": "code",
   "execution_count": 41,
   "metadata": {},
   "outputs": [
    {
     "data": {
      "text/html": [
       "<div>\n",
       "<style scoped>\n",
       "    .dataframe tbody tr th:only-of-type {\n",
       "        vertical-align: middle;\n",
       "    }\n",
       "\n",
       "    .dataframe tbody tr th {\n",
       "        vertical-align: top;\n",
       "    }\n",
       "\n",
       "    .dataframe thead th {\n",
       "        text-align: right;\n",
       "    }\n",
       "</style>\n",
       "<table border=\"1\" class=\"dataframe\">\n",
       "  <thead>\n",
       "    <tr style=\"text-align: right;\">\n",
       "      <th></th>\n",
       "      <th>class</th>\n",
       "      <th>source</th>\n",
       "    </tr>\n",
       "  </thead>\n",
       "  <tbody>\n",
       "    <tr>\n",
       "      <th>0</th>\n",
       "      <td>2</td>\n",
       "      <td>/home/lyc/Desktop/tensorfolowproject/chapter_3...</td>\n",
       "    </tr>\n",
       "    <tr>\n",
       "      <th>1</th>\n",
       "      <td>3</td>\n",
       "      <td>/home/lyc/Desktop/tensorfolowproject/chapter_3...</td>\n",
       "    </tr>\n",
       "    <tr>\n",
       "      <th>2</th>\n",
       "      <td>4</td>\n",
       "      <td>/home/lyc/Desktop/tensorfolowproject/chapter_3...</td>\n",
       "    </tr>\n",
       "    <tr>\n",
       "      <th>3</th>\n",
       "      <td>6</td>\n",
       "      <td>/home/lyc/Desktop/tensorfolowproject/chapter_3...</td>\n",
       "    </tr>\n",
       "    <tr>\n",
       "      <th>4</th>\n",
       "      <td>1</td>\n",
       "      <td>/home/lyc/Desktop/tensorfolowproject/chapter_3...</td>\n",
       "    </tr>\n",
       "  </tbody>\n",
       "</table>\n",
       "</div>"
      ],
      "text/plain": [
       "   class                                             source\n",
       "0      2  /home/lyc/Desktop/tensorfolowproject/chapter_3...\n",
       "1      3  /home/lyc/Desktop/tensorfolowproject/chapter_3...\n",
       "2      4  /home/lyc/Desktop/tensorfolowproject/chapter_3...\n",
       "3      6  /home/lyc/Desktop/tensorfolowproject/chapter_3...\n",
       "4      1  /home/lyc/Desktop/tensorfolowproject/chapter_3..."
      ]
     },
     "execution_count": 41,
     "metadata": {},
     "output_type": "execute_result"
    }
   ],
   "source": [
    "X_train.head()"
   ]
  },
  {
   "cell_type": "code",
   "execution_count": 45,
   "metadata": {},
   "outputs": [],
   "source": [
    "X_train.to_csv('/home/lyc/Desktop/tensorfolowproject/chapter_3/data_prepare/pic/train/train.lst',sep='\\t', header=False)"
   ]
  },
  {
   "cell_type": "code",
   "execution_count": 48,
   "metadata": {},
   "outputs": [],
   "source": [
    "X_test.reset_index(drop=True, inplace=True)"
   ]
  },
  {
   "cell_type": "code",
   "execution_count": 49,
   "metadata": {},
   "outputs": [],
   "source": [
    "X_test.to_csv('/home/lyc/Desktop/tensorfolowproject/chapter_3/data_prepare/pic/train/validation.lst', sep='\\t',header=False)"
   ]
  },
  {
   "cell_type": "code",
   "execution_count": null,
   "metadata": {},
   "outputs": [],
   "source": []
  }
 ],
 "metadata": {
  "kernelspec": {
   "display_name": "Python 3",
   "language": "python",
   "name": "python3"
  },
  "language_info": {
   "codemirror_mode": {
    "name": "ipython",
    "version": 3
   },
   "file_extension": ".py",
   "mimetype": "text/x-python",
   "name": "python",
   "nbconvert_exporter": "python",
   "pygments_lexer": "ipython3",
   "version": "3.7.0"
  }
 },
 "nbformat": 4,
 "nbformat_minor": 2
}
